{
 "cells": [
  {
   "cell_type": "code",
   "execution_count": 1,
   "id": "9b8061c3",
   "metadata": {},
   "outputs": [],
   "source": [
    "import numpy as np\n",
    "import pandas as pd\n",
    "import matplotlib.pyplot as plt\n",
    "import yfinance as yf"
   ]
  },
  {
   "cell_type": "code",
   "execution_count": 2,
   "id": "0c199817",
   "metadata": {},
   "outputs": [
    {
     "name": "stderr",
     "output_type": "stream",
     "text": [
      "[*********************100%%**********************]  1 of 1 completed\n"
     ]
    }
   ],
   "source": [
    "start = '2012-01-01'\n",
    "end = '2023-12-01'\n",
    "stock = 'GOOG'\n",
    "data = yf.download(stock,start,end)"
   ]
  },
  {
   "cell_type": "code",
   "execution_count": 3,
   "id": "c34ba81c",
   "metadata": {},
   "outputs": [],
   "source": [
    "data.reset_index(inplace=True)"
   ]
  },
  {
   "cell_type": "code",
   "execution_count": 4,
   "id": "2846589c",
   "metadata": {},
   "outputs": [
    {
     "data": {
      "text/html": [
       "<div>\n",
       "<style scoped>\n",
       "    .dataframe tbody tr th:only-of-type {\n",
       "        vertical-align: middle;\n",
       "    }\n",
       "\n",
       "    .dataframe tbody tr th {\n",
       "        vertical-align: top;\n",
       "    }\n",
       "\n",
       "    .dataframe thead th {\n",
       "        text-align: right;\n",
       "    }\n",
       "</style>\n",
       "<table border=\"1\" class=\"dataframe\">\n",
       "  <thead>\n",
       "    <tr style=\"text-align: right;\">\n",
       "      <th></th>\n",
       "      <th>Date</th>\n",
       "      <th>Open</th>\n",
       "      <th>High</th>\n",
       "      <th>Low</th>\n",
       "      <th>Close</th>\n",
       "      <th>Adj Close</th>\n",
       "      <th>Volume</th>\n",
       "    </tr>\n",
       "  </thead>\n",
       "  <tbody>\n",
       "    <tr>\n",
       "      <th>0</th>\n",
       "      <td>2012-01-03</td>\n",
       "      <td>16.262545</td>\n",
       "      <td>16.641375</td>\n",
       "      <td>16.248346</td>\n",
       "      <td>16.573130</td>\n",
       "      <td>16.573130</td>\n",
       "      <td>147611217</td>\n",
       "    </tr>\n",
       "    <tr>\n",
       "      <th>1</th>\n",
       "      <td>2012-01-04</td>\n",
       "      <td>16.563665</td>\n",
       "      <td>16.693678</td>\n",
       "      <td>16.453827</td>\n",
       "      <td>16.644611</td>\n",
       "      <td>16.644611</td>\n",
       "      <td>114989399</td>\n",
       "    </tr>\n",
       "    <tr>\n",
       "      <th>2</th>\n",
       "      <td>2012-01-05</td>\n",
       "      <td>16.491436</td>\n",
       "      <td>16.537264</td>\n",
       "      <td>16.344486</td>\n",
       "      <td>16.413727</td>\n",
       "      <td>16.413727</td>\n",
       "      <td>131808205</td>\n",
       "    </tr>\n",
       "    <tr>\n",
       "      <th>3</th>\n",
       "      <td>2012-01-06</td>\n",
       "      <td>16.417213</td>\n",
       "      <td>16.438385</td>\n",
       "      <td>16.184088</td>\n",
       "      <td>16.189817</td>\n",
       "      <td>16.189817</td>\n",
       "      <td>108119746</td>\n",
       "    </tr>\n",
       "    <tr>\n",
       "      <th>4</th>\n",
       "      <td>2012-01-09</td>\n",
       "      <td>16.102144</td>\n",
       "      <td>16.114599</td>\n",
       "      <td>15.472754</td>\n",
       "      <td>15.503389</td>\n",
       "      <td>15.503389</td>\n",
       "      <td>233776981</td>\n",
       "    </tr>\n",
       "    <tr>\n",
       "      <th>...</th>\n",
       "      <td>...</td>\n",
       "      <td>...</td>\n",
       "      <td>...</td>\n",
       "      <td>...</td>\n",
       "      <td>...</td>\n",
       "      <td>...</td>\n",
       "      <td>...</td>\n",
       "    </tr>\n",
       "    <tr>\n",
       "      <th>2993</th>\n",
       "      <td>2023-11-24</td>\n",
       "      <td>139.539993</td>\n",
       "      <td>139.677002</td>\n",
       "      <td>137.470001</td>\n",
       "      <td>138.220001</td>\n",
       "      <td>138.220001</td>\n",
       "      <td>8828600</td>\n",
       "    </tr>\n",
       "    <tr>\n",
       "      <th>2994</th>\n",
       "      <td>2023-11-27</td>\n",
       "      <td>137.570007</td>\n",
       "      <td>139.630005</td>\n",
       "      <td>137.539993</td>\n",
       "      <td>138.050003</td>\n",
       "      <td>138.050003</td>\n",
       "      <td>17886400</td>\n",
       "    </tr>\n",
       "    <tr>\n",
       "      <th>2995</th>\n",
       "      <td>2023-11-28</td>\n",
       "      <td>137.630005</td>\n",
       "      <td>138.660004</td>\n",
       "      <td>137.039993</td>\n",
       "      <td>138.619995</td>\n",
       "      <td>138.619995</td>\n",
       "      <td>17046900</td>\n",
       "    </tr>\n",
       "    <tr>\n",
       "      <th>2996</th>\n",
       "      <td>2023-11-29</td>\n",
       "      <td>138.985001</td>\n",
       "      <td>139.669998</td>\n",
       "      <td>136.294998</td>\n",
       "      <td>136.399994</td>\n",
       "      <td>136.399994</td>\n",
       "      <td>21014700</td>\n",
       "    </tr>\n",
       "    <tr>\n",
       "      <th>2997</th>\n",
       "      <td>2023-11-30</td>\n",
       "      <td>136.399994</td>\n",
       "      <td>136.960007</td>\n",
       "      <td>132.789993</td>\n",
       "      <td>133.919998</td>\n",
       "      <td>133.919998</td>\n",
       "      <td>29913500</td>\n",
       "    </tr>\n",
       "  </tbody>\n",
       "</table>\n",
       "<p>2998 rows × 7 columns</p>\n",
       "</div>"
      ],
      "text/plain": [
       "           Date        Open        High         Low       Close   Adj Close  \\\n",
       "0    2012-01-03   16.262545   16.641375   16.248346   16.573130   16.573130   \n",
       "1    2012-01-04   16.563665   16.693678   16.453827   16.644611   16.644611   \n",
       "2    2012-01-05   16.491436   16.537264   16.344486   16.413727   16.413727   \n",
       "3    2012-01-06   16.417213   16.438385   16.184088   16.189817   16.189817   \n",
       "4    2012-01-09   16.102144   16.114599   15.472754   15.503389   15.503389   \n",
       "...         ...         ...         ...         ...         ...         ...   \n",
       "2993 2023-11-24  139.539993  139.677002  137.470001  138.220001  138.220001   \n",
       "2994 2023-11-27  137.570007  139.630005  137.539993  138.050003  138.050003   \n",
       "2995 2023-11-28  137.630005  138.660004  137.039993  138.619995  138.619995   \n",
       "2996 2023-11-29  138.985001  139.669998  136.294998  136.399994  136.399994   \n",
       "2997 2023-11-30  136.399994  136.960007  132.789993  133.919998  133.919998   \n",
       "\n",
       "         Volume  \n",
       "0     147611217  \n",
       "1     114989399  \n",
       "2     131808205  \n",
       "3     108119746  \n",
       "4     233776981  \n",
       "...         ...  \n",
       "2993    8828600  \n",
       "2994   17886400  \n",
       "2995   17046900  \n",
       "2996   21014700  \n",
       "2997   29913500  \n",
       "\n",
       "[2998 rows x 7 columns]"
      ]
     },
     "execution_count": 4,
     "metadata": {},
     "output_type": "execute_result"
    }
   ],
   "source": [
    "data"
   ]
  },
  {
   "cell_type": "code",
   "execution_count": 5,
   "id": "918af89e",
   "metadata": {},
   "outputs": [],
   "source": [
    "ma_100_days = data.Close.rolling(100).mean()"
   ]
  },
  {
   "cell_type": "code",
   "execution_count": 6,
   "id": "96452760",
   "metadata": {},
   "outputs": [
    {
     "data": {
      "image/png": "[encoded data removed]",
      "text/plain": [
       "<Figure size 576x432 with 1 Axes>"
      ]
     },
     "metadata": {
      "needs_background": "light"
     },
     "output_type": "display_data"
    }
   ],
   "source": [
    "plt.figure(figsize=(8,6))\n",
    "plt.plot(ma_100_days, 'r')\n",
    "plt.plot(data.Close,'g')\n",
    "plt.show()"
   ]
  },
  {
   "cell_type": "code",
   "execution_count": 7,
   "id": "cd649b94",
   "metadata": {},
   "outputs": [],
   "source": [
    "ma_200_days = data.Close.rolling(200).mean()"
   ]
  },
  {
   "cell_type": "code",
   "execution_count": 8,
   "id": "5efebd62",
   "metadata": {},
   "outputs": [
    {
     "data": {
      "image/png": "[encoded data removed]",
      "text/plain": [
       "<Figure size 576x432 with 1 Axes>"
      ]
     },
     "metadata": {
      "needs_background": "light"
     },
     "output_type": "display_data"
    }
   ],
   "source": [
    "plt.figure(figsize=(8,6))\n",
    "plt.plot(ma_100_days,'r')\n",
    "plt.plot(ma_200_days,'b')\n",
    "plt.plot(data.Close,'g')\n",
    "plt.show()"
   ]
  },
  {
   "cell_type": "code",
   "execution_count": 9,
   "id": "8a0c1676",
   "metadata": {},
   "outputs": [],
   "source": [
    "data.dropna(inplace=True)"
   ]
  },
  {
   "cell_type": "code",
   "execution_count": 10,
   "id": "eb8ea51f",
   "metadata": {},
   "outputs": [],
   "source": [
    "data_train = pd.DataFrame(data.Close[0:int(len(data)*0.8)])\n",
    "data_test = pd.DataFrame(data.Close[int(len(data)*0.8):len(data)])"
   ]
  },
  {
   "cell_type": "code",
   "execution_count": 11,
   "id": "566309d4",
   "metadata": {},
   "outputs": [
    {
     "data": {
      "text/plain": [
       "2398"
      ]
     },
     "execution_count": 11,
     "metadata": {},
     "output_type": "execute_result"
    }
   ],
   "source": [
    "data_train.shape[0]"
   ]
  },
  {
   "cell_type": "code",
   "execution_count": 12,
   "id": "48c704ce",
   "metadata": {},
   "outputs": [
    {
     "data": {
      "text/plain": [
       "600"
      ]
     },
     "execution_count": 12,
     "metadata": {},
     "output_type": "execute_result"
    }
   ],
   "source": [
    "data_test.shape[0]"
   ]
  },
  {
   "cell_type": "code",
   "execution_count": 14,
   "id": "da425ec0",
   "metadata": {},
   "outputs": [],
   "source": [
    "from sklearn.preprocessing import MinMaxScaler\n",
    "scaler = MinMaxScaler(feature_range=(0,1))"
   ]
  },
  {
   "cell_type": "code",
   "execution_count": 15,
   "id": "0007b9c4",
   "metadata": {},
   "outputs": [],
   "source": [
    "data_train_scale = scaler.fit_transform(data_train)"
   ]
  },
  {
   "cell_type": "code",
   "execution_count": 16,
   "id": "fb952551",
   "metadata": {},
   "outputs": [],
   "source": [
    "x = []\n",
    "y = []\n",
    "for i in range(100, data_train_scale.shape[0]):\n",
    "    x.append(data_train_scale[i-100:i])\n",
    "    y.append(data_train_scale[i,0])"
   ]
  },
  {
   "cell_type": "code",
   "execution_count": 17,
   "id": "abd7c837",
   "metadata": {},
   "outputs": [],
   "source": [
    "x, y = np.array(x), np.array(y)"
   ]
  },
  {
   "cell_type": "code",
   "execution_count": 18,
   "id": "8db6e3b6",
   "metadata": {},
   "outputs": [
    {
     "name": "stdout",
     "output_type": "stream",
     "text": [
      "WARNING:tensorflow:From C:\\Users\\boons\\anaconda3\\lib\\site-packages\\keras\\src\\losses.py:2976: The name tf.losses.sparse_softmax_cross_entropy is deprecated. Please use tf.compat.v1.losses.sparse_softmax_cross_entropy instead.\n",
      "\n"
     ]
    }
   ],
   "source": [
    "from keras.layers import Dense, Dropout, LSTM\n",
    "from keras.models import Sequential"
   ]
  },
  {
   "cell_type": "code",
   "execution_count": 19,
   "id": "3d84654e",
   "metadata": {},
   "outputs": [
    {
     "name": "stdout",
     "output_type": "stream",
     "text": [
      "WARNING:tensorflow:From C:\\Users\\boons\\anaconda3\\lib\\site-packages\\keras\\src\\backend.py:873: The name tf.get_default_graph is deprecated. Please use tf.compat.v1.get_default_graph instead.\n",
      "\n"
     ]
    }
   ],
   "source": [
    "model = Sequential()\n",
    "model.add(LSTM(units = 50, activation = 'relu', return_sequences = True,\n",
    "               input_shape = ((x.shape[1],1))))\n",
    "model.add(Dropout(0.2))\n",
    "\n",
    "model.add(LSTM(units = 60, activation='relu', return_sequences = True))\n",
    "model.add(Dropout(0.3))\n",
    "\n",
    "model.add(LSTM(units = 80, activation = 'relu', return_sequences =True))\n",
    "model.add(Dropout(0.4))\n",
    "\n",
    "model.add(LSTM(units = 120, activation = 'relu'))\n",
    "model.add(Dropout(0.5))\n",
    "\n",
    "model.add(Dense(units = 1))"
   ]
  },
  {
   "cell_type": "code",
   "execution_count": 20,
   "id": "11b53c5c",
   "metadata": {},
   "outputs": [
    {
     "name": "stdout",
     "output_type": "stream",
     "text": [
      "WARNING:tensorflow:From C:\\Users\\boons\\anaconda3\\lib\\site-packages\\keras\\src\\optimizers\\__init__.py:309: The name tf.train.Optimizer is deprecated. Please use tf.compat.v1.train.Optimizer instead.\n",
      "\n"
     ]
    }
   ],
   "source": [
    "model.compile(optimizer = 'adam', loss = 'mean_squared_error')"
   ]
  },
  {
   "cell_type": "code",
   "execution_count": 21,
   "id": "b55c1b3f",
   "metadata": {},
   "outputs": [
    {
     "name": "stdout",
     "output_type": "stream",
     "text": [
      "Epoch 1/50\n",
      "WARNING:tensorflow:From C:\\Users\\boons\\anaconda3\\lib\\site-packages\\keras\\src\\utils\\tf_utils.py:492: The name tf.ragged.RaggedTensorValue is deprecated. Please use tf.compat.v1.ragged.RaggedTensorValue instead.\n",
      "\n",
      "72/72 [==============================] - 8s 78ms/step - loss: 0.0204\n",
      "Epoch 2/50\n",
      "72/72 [==============================] - 5s 76ms/step - loss: 0.0059\n",
      "Epoch 3/50\n",
      "72/72 [==============================] - 6s 77ms/step - loss: 0.0038\n",
      "Epoch 4/50\n",
      "72/72 [==============================] - 6s 80ms/step - loss: 0.0030\n",
      "Epoch 5/50\n",
      "72/72 [==============================] - 6s 78ms/step - loss: 0.0035\n",
      "Epoch 6/50\n",
      "72/72 [==============================] - 6s 81ms/step - loss: 0.0033\n",
      "Epoch 7/50\n",
      "72/72 [==============================] - 6s 78ms/step - loss: 0.0029\n",
      "Epoch 8/50\n",
      "72/72 [==============================] - 6s 79ms/step - loss: 0.0033\n",
      "Epoch 9/50\n",
      "72/72 [==============================] - 6s 78ms/step - loss: 0.0023\n",
      "Epoch 10/50\n",
      "72/72 [==============================] - 6s 78ms/step - loss: 0.0021\n",
      "Epoch 11/50\n",
      "72/72 [==============================] - 6s 77ms/step - loss: 0.0028\n",
      "Epoch 12/50\n",
      "72/72 [==============================] - 5s 76ms/step - loss: 0.0023\n",
      "Epoch 13/50\n",
      "72/72 [==============================] - 5s 76ms/step - loss: 0.0023\n",
      "Epoch 14/50\n",
      "72/72 [==============================] - 5s 76ms/step - loss: 0.0020\n",
      "Epoch 15/50\n",
      "72/72 [==============================] - 6s 77ms/step - loss: 0.0020\n",
      "Epoch 16/50\n",
      "72/72 [==============================] - 6s 77ms/step - loss: 0.0020\n",
      "Epoch 17/50\n",
      "72/72 [==============================] - 6s 77ms/step - loss: 0.0022\n",
      "Epoch 18/50\n",
      "72/72 [==============================] - 6s 77ms/step - loss: 0.0020\n",
      "Epoch 19/50\n",
      "72/72 [==============================] - 6s 77ms/step - loss: 0.0017\n",
      "Epoch 20/50\n",
      "72/72 [==============================] - 6s 82ms/step - loss: 0.0019\n",
      "Epoch 21/50\n",
      "72/72 [==============================] - 6s 79ms/step - loss: 0.0016\n",
      "Epoch 22/50\n",
      "72/72 [==============================] - 6s 79ms/step - loss: 0.0016\n",
      "Epoch 23/50\n",
      "72/72 [==============================] - 6s 82ms/step - loss: 0.0017\n",
      "Epoch 24/50\n",
      "72/72 [==============================] - 6s 78ms/step - loss: 0.0016\n",
      "Epoch 25/50\n",
      "72/72 [==============================] - 6s 80ms/step - loss: 0.0016\n",
      "Epoch 26/50\n",
      "72/72 [==============================] - 6s 80ms/step - loss: 0.0018\n",
      "Epoch 27/50\n",
      "72/72 [==============================] - 6s 81ms/step - loss: 0.0016\n",
      "Epoch 28/50\n",
      "72/72 [==============================] - 6s 77ms/step - loss: 0.0017\n",
      "Epoch 29/50\n",
      "72/72 [==============================] - 6s 77ms/step - loss: 0.0015\n",
      "Epoch 30/50\n",
      "72/72 [==============================] - 6s 80ms/step - loss: 0.0016\n",
      "Epoch 31/50\n",
      "72/72 [==============================] - 6s 80ms/step - loss: 0.0015\n",
      "Epoch 32/50\n",
      "72/72 [==============================] - 6s 83ms/step - loss: 0.0016\n",
      "Epoch 33/50\n",
      "72/72 [==============================] - 6s 80ms/step - loss: 0.0018\n",
      "Epoch 34/50\n",
      "72/72 [==============================] - 6s 79ms/step - loss: 0.0015\n",
      "Epoch 35/50\n",
      "72/72 [==============================] - 6s 80ms/step - loss: 0.0016\n",
      "Epoch 36/50\n",
      "72/72 [==============================] - 6s 83ms/step - loss: 0.0015\n",
      "Epoch 37/50\n",
      "72/72 [==============================] - 6s 79ms/step - loss: 0.0015\n",
      "Epoch 38/50\n",
      "72/72 [==============================] - 6s 79ms/step - loss: 0.0016\n",
      "Epoch 39/50\n",
      "72/72 [==============================] - 6s 78ms/step - loss: 0.0014\n",
      "Epoch 40/50\n",
      "72/72 [==============================] - 6s 78ms/step - loss: 0.0015\n",
      "Epoch 41/50\n",
      "72/72 [==============================] - 6s 78ms/step - loss: 0.0014\n",
      "Epoch 42/50\n",
      "72/72 [==============================] - 6s 79ms/step - loss: 0.0015\n",
      "Epoch 43/50\n",
      "72/72 [==============================] - 6s 78ms/step - loss: 0.0013\n",
      "Epoch 44/50\n",
      "72/72 [==============================] - 6s 79ms/step - loss: 0.0013\n",
      "Epoch 45/50\n",
      "72/72 [==============================] - 6s 82ms/step - loss: 0.0013\n",
      "Epoch 46/50\n",
      "72/72 [==============================] - 6s 81ms/step - loss: 0.0014\n",
      "Epoch 47/50\n",
      "72/72 [==============================] - 6s 82ms/step - loss: 0.0015\n",
      "Epoch 48/50\n",
      "72/72 [==============================] - 6s 81ms/step - loss: 0.0015\n",
      "Epoch 49/50\n",
      "72/72 [==============================] - 6s 82ms/step - loss: 0.0012\n",
      "Epoch 50/50\n",
      "72/72 [==============================] - 6s 81ms/step - loss: 0.0013\n"
     ]
    },
    {
     "data": {
      "text/plain": [
       "<keras.src.callbacks.History at 0x15bafc124f0>"
      ]
     },
     "execution_count": 21,
     "metadata": {},
     "output_type": "execute_result"
    }
   ],
   "source": [
    "model.fit(x,y,epochs = 50, batch_size = 32, verbose = 1)"
   ]
  },
  {
   "cell_type": "code",
   "execution_count": 22,
   "id": "544e78b0",
   "metadata": {},
   "outputs": [
    {
     "name": "stdout",
     "output_type": "stream",
     "text": [
      "Model: \"sequential\"\n",
      "_________________________________________________________________\n",
      " Layer (type)                Output Shape              Param #   \n",
      "=================================================================\n",
      " lstm (LSTM)                 (None, 100, 50)           10400     \n",
      "                                                                 \n",
      " dropout (Dropout)           (None, 100, 50)           0         \n",
      "                                                                 \n",
      " lstm_1 (LSTM)               (None, 100, 60)           26640     \n",
      "                                                                 \n",
      " dropout_1 (Dropout)         (None, 100, 60)           0         \n",
      "                                                                 \n",
      " lstm_2 (LSTM)               (None, 100, 80)           45120     \n",
      "                                                                 \n",
      " dropout_2 (Dropout)         (None, 100, 80)           0         \n",
      "                                                                 \n",
      " lstm_3 (LSTM)               (None, 120)               96480     \n",
      "                                                                 \n",
      " dropout_3 (Dropout)         (None, 120)               0         \n",
      "                                                                 \n",
      " dense (Dense)               (None, 1)                 121       \n",
      "                                                                 \n",
      "=================================================================\n",
      "Total params: 178761 (698.29 KB)\n",
      "Trainable params: 178761 (698.29 KB)\n",
      "Non-trainable params: 0 (0.00 Byte)\n",
      "_________________________________________________________________\n"
     ]
    }
   ],
   "source": [
    "model.summary()"
   ]
  },
  {
   "cell_type": "code",
   "execution_count": 23,
   "id": "3e04aba4",
   "metadata": {},
   "outputs": [],
   "source": [
    "pas_100_days = data_train.tail(100)"
   ]
  },
  {
   "cell_type": "code",
   "execution_count": 24,
   "id": "ff11a711",
   "metadata": {},
   "outputs": [],
   "source": [
    "data_test = pd.concat([pas_100_days, data_test], ignore_index=True)"
   ]
  },
  {
   "cell_type": "code",
   "execution_count": 27,
   "id": "a8deff25",
   "metadata": {},
   "outputs": [],
   "source": [
    "data_test_scale = scaler.fit_transform(data_test)"
   ]
  },
  {
   "cell_type": "code",
   "execution_count": 31,
   "id": "db342d67",
   "metadata": {},
   "outputs": [],
   "source": [
    "x = []\n",
    "y = []\n",
    "for i in range(100, data_test_scale.shape[0]):\n",
    "    x.append(data_test_scale[i-100:i])\n",
    "    y.append(data_test_scale[i,0])\n",
    "    \n",
    "x, y = np.array(x), np.array(y)"
   ]
  },
  {
   "cell_type": "code",
   "execution_count": 32,
   "id": "0b0ae748",
   "metadata": {},
   "outputs": [
    {
     "name": "stdout",
     "output_type": "stream",
     "text": [
      "19/19 [==============================] - 1s 28ms/step\n"
     ]
    }
   ],
   "source": [
    "y_predict = model.predict(x)"
   ]
  },
  {
   "cell_type": "code",
   "execution_count": 37,
   "id": "d4e5398f",
   "metadata": {},
   "outputs": [],
   "source": [
    "scale = 1/scaler.scale_"
   ]
  },
  {
   "cell_type": "code",
   "execution_count": 38,
   "id": "448dce81",
   "metadata": {},
   "outputs": [],
   "source": [
    "y_predict = y_predict*scale"
   ]
  },
  {
   "cell_type": "code",
   "execution_count": 39,
   "id": "9a863ac5",
   "metadata": {},
   "outputs": [],
   "source": [
    "y = y*scale"
   ]
  },
  {
   "cell_type": "code",
   "execution_count": 41,
   "id": "7495d107",
   "metadata": {},
   "outputs": [
    {
     "data": {
      "image/png": "[encoded data removed]",
      "text/plain": [
       "<Figure size 720x576 with 1 Axes>"
      ]
     },
     "metadata": {
      "needs_background": "light"
     },
     "output_type": "display_data"
    }
   ],
   "source": [
    "plt.figure(figsize=(10,8))\n",
    "plt.plot(y_predict, 'r', label = 'Predicted Price')\n",
    "plt.plot(y, 'g', label = 'Original Price')\n",
    "plt.xlabel('Time')\n",
    "plt.ylabel('Price')\n",
    "plt.legend()\n",
    "plt.show()"
   ]
  },
  {
   "cell_type": "code",
   "execution_count": 42,
   "id": "53fee303",
   "metadata": {},
   "outputs": [],
   "source": [
    "model.save('Stock Predictions Model.keras')"
   ]
  },
  {
   "cell_type": "code",
   "execution_count": null,
   "id": "d144e180",
   "metadata": {},
   "outputs": [],
   "source": []
  }
 ],
 "metadata": {
  "kernelspec": {
   "display_name": "Python 3 (ipykernel)",
   "language": "python",
   "name": "python3"
  },
  "language_info": {
   "codemirror_mode": {
    "name": "ipython",
    "version": 3
   },
   "file_extension": ".py",
   "mimetype": "text/x-python",
   "name": "python",
   "nbconvert_exporter": "python",
   "pygments_lexer": "ipython3",
   "version": "3.9.12"
  }
 },
 "nbformat": 4,
 "nbformat_minor": 5
}
